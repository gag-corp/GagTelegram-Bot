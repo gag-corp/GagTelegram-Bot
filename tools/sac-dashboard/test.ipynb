{
 "cells": [
  {
   "cell_type": "code",
   "execution_count": 8,
   "metadata": {},
   "outputs": [],
   "source": [
    "from datetime import datetime\n",
    "date = datetime.strptime('12/11/2024, 21:52:33', '%d/%m/%Y, %H:%M:%S')\n",
    "date.month\n",
    "\n",
    "def parse_sac_datetime(datetime_string: str) -> datetime:\n",
    "    return datetime.strptime(datetime_string, '%d/%m/%Y, %H:%M:%S')"
   ]
  },
  {
   "cell_type": "code",
   "execution_count": 9,
   "metadata": {},
   "outputs": [
    {
     "data": {
      "text/plain": [
       "'red'"
      ]
     },
     "execution_count": 9,
     "metadata": {},
     "output_type": "execute_result"
    }
   ],
   "source": [
    "from collections import Counter\n",
    "\n",
    "counts = Counter(['apple', 'red', 'apple', 'red', 'red', 'pear'])\n",
    "counts\n",
    "counts.most_common(1)[0][0]"
   ]
  },
  {
   "cell_type": "code",
   "execution_count": 10,
   "metadata": {},
   "outputs": [],
   "source": [
    "raw_data = [{\"name\":\"expoente\",\"from_id\":1867201558,\"from_name\":\"Bruno\",\"message\":\"tirou foto minha durante a aula sem consentimento\",\"datetime_str\":\"12/11/2024, 21:52:33\",\"datetime_month_number\":11,\"datetime_month_string\":\"November\",\"datetime_month_abbr\":\"Nov\"},{\"name\":\"gio\",\"from_id\":526914306,\"from_name\":\"leosaor\",\"message\":\"Deu go 2x seguidas sem o lecandre e tomamos ban de 15min\",\"datetime_str\":\"14/11/2024, 01:25:56\",\"datetime_month_number\":11,\"datetime_month_string\":\"November\",\"datetime_month_abbr\":\"Nov\"},{\"name\":\"gio\",\"from_id\":1867201558,\"from_name\":\"Bruno\",\"message\":\"foi burro e jogou a culpa em mim\",\"datetime_str\":\"14/11/2024, 01:25:02\",\"datetime_month_number\":11,\"datetime_month_string\":\"November\",\"datetime_month_abbr\":\"Nov\"},{\"name\":\"gio\",\"from_id\":501273773,\"from_name\":\"JaoLSL\",\"message\":\"não avisou que era saideira\",\"datetime_str\":\"14/11/2024, 01:25:02\",\"datetime_month_number\":11,\"datetime_month_string\":\"November\",\"datetime_month_abbr\":\"Nov\"},{\"name\":\"gio\",\"from_id\":501273773,\"from_name\":\"JaoLSL\",\"message\":\"ser cringe e não entender convites implícitos\",\"datetime_str\":\"14/11/2024, 18:52:06\",\"datetime_month_number\":11,\"datetime_month_string\":\"November\",\"datetime_month_abbr\":\"Nov\"},{\"name\":\"lecandre\",\"from_id\":334724940,\"from_name\":\"rodizinho\",\"message\":\"não subiu a rampa comigo ontem\",\"datetime_str\":\"12/11/2024, 21:46:10\",\"datetime_month_number\":11,\"datetime_month_string\":\"November\",\"datetime_month_abbr\":\"Nov\"},{\"name\":\"lecandre\",\"from_id\":334724940,\"from_name\":\"rodizinho\",\"message\":\"muito uso de emoji de nerd\",\"datetime_str\":\"12/11/2024, 21:51:14\",\"datetime_month_number\":11,\"datetime_month_string\":\"November\",\"datetime_month_abbr\":\"Nov\"},{\"name\":\"lecandre\",\"from_id\":526914306,\"from_name\":\"leosaor\",\"message\":\"promotor da flex é INSUPORTAVEL\",\"datetime_str\":\"13/11/2024, 19:58:14\",\"datetime_month_number\":11,\"datetime_month_string\":\"November\",\"datetime_month_abbr\":\"Nov\"},{\"name\":\"lecandre\",\"from_id\":315129472,\"from_name\":\"mellomaths\",\"message\":\"ta chatinho pra caralho\",\"datetime_str\":\"14/11/2024, 01:18:14\",\"datetime_month_number\":11,\"datetime_month_string\":\"November\",\"datetime_month_abbr\":\"Nov\"},{\"name\":\"mello\",\"from_id\":334724940,\"from_name\":\"rodizinho\",\"message\":\"so faz reclamação BURRA\",\"datetime_str\":\"14/11/2024, 17:37:02\",\"datetime_month_number\":11,\"datetime_month_string\":\"November\",\"datetime_month_abbr\":\"Nov\"},{\"name\":\"joao\",\"from_id\":526914306,\"from_name\":\"leosaor\",\"message\":\"nao ganka mid\",\"datetime_str\":\"14/11/2024, 02:28:06\",\"datetime_month_number\":11,\"datetime_month_string\":\"November\",\"datetime_month_abbr\":\"Nov\"},{\"name\":\"rodizinho\",\"from_id\":315129472,\"from_name\":\"Matheus\",\"message\":\"teaser e rollout da diss infinito perdeu adesão do ouvinte\",\"datetime_str\":\"13/11/2024, 20:01:06\",\"datetime_month_number\":11,\"datetime_month_string\":\"November\",\"datetime_month_abbr\":\"Nov\"},{\"name\":\"rodizinho\",\"from_id\":501273773,\"from_name\":\"JaoLSL\",\"message\":\"quer divulgar tigrinho\",\"datetime_str\":\"14/11/2024, 01:25:02\",\"datetime_month_number\":11,\"datetime_month_string\":\"November\",\"datetime_month_abbr\":\"Nov\"},{\"name\":\"rodizinho\",\"from_id\":315129472,\"from_name\":\"Matheus\",\"message\":\"fazendo boca de urna pra sac do lecandre\",\"datetime_str\":\"14/11/2024, 02:11:02\",\"datetime_month_number\":11,\"datetime_month_string\":\"November\",\"datetime_month_abbr\":\"Nov\"},{\"name\":\"rodizinho\",\"from_id\":315129472,\"from_name\":\"Matheus\",\"message\":\"toda hora esse papinho de aiiin banalizaram o sac serviço de atendimento ao cliente chato pra caralho ja\",\"datetime_str\":\"14/11/2024, 17:14:02\",\"datetime_month_number\":11,\"datetime_month_string\":\"November\",\"datetime_month_abbr\":\"Nov\"}]"
   ]
  },
  {
   "cell_type": "code",
   "execution_count": 11,
   "metadata": {},
   "outputs": [
    {
     "data": {
      "text/plain": [
       "[datetime.datetime(2024, 11, 12, 21, 46, 10),\n",
       " datetime.datetime(2024, 11, 12, 21, 51, 14),\n",
       " datetime.datetime(2024, 11, 13, 19, 58, 14),\n",
       " datetime.datetime(2024, 11, 14, 1, 18, 14)]"
      ]
     },
     "execution_count": 11,
     "metadata": {},
     "output_type": "execute_result"
    }
   ],
   "source": [
    "data = raw_data\n",
    "dates = [sac[\"datetime_str\"] for sac in data if sac[\"name\"] == \"lecandre\"]\n",
    "dates = [parse_sac_datetime(d) for d in dates]\n",
    "dates.sort()\n",
    "dates"
   ]
  },
  {
   "cell_type": "code",
   "execution_count": 12,
   "metadata": {},
   "outputs": [
    {
     "data": {
      "text/html": [
       "<div>\n",
       "<style scoped>\n",
       "    .dataframe tbody tr th:only-of-type {\n",
       "        vertical-align: middle;\n",
       "    }\n",
       "\n",
       "    .dataframe tbody tr th {\n",
       "        vertical-align: top;\n",
       "    }\n",
       "\n",
       "    .dataframe thead th {\n",
       "        text-align: right;\n",
       "    }\n",
       "</style>\n",
       "<table border=\"1\" class=\"dataframe\">\n",
       "  <thead>\n",
       "    <tr style=\"text-align: right;\">\n",
       "      <th></th>\n",
       "      <th>name</th>\n",
       "      <th>count</th>\n",
       "      <th>hater</th>\n",
       "      <th>last_sac</th>\n",
       "    </tr>\n",
       "  </thead>\n",
       "  <tbody>\n",
       "    <tr>\n",
       "      <th>0</th>\n",
       "      <td>expoente</td>\n",
       "      <td>1</td>\n",
       "      <td>Bruno</td>\n",
       "      <td>2024-11-12T21:52:33</td>\n",
       "    </tr>\n",
       "    <tr>\n",
       "      <th>1</th>\n",
       "      <td>gio</td>\n",
       "      <td>4</td>\n",
       "      <td>JaoLSL</td>\n",
       "      <td>2024-11-14T18:52:06</td>\n",
       "    </tr>\n",
       "    <tr>\n",
       "      <th>2</th>\n",
       "      <td>gio</td>\n",
       "      <td>4</td>\n",
       "      <td>JaoLSL</td>\n",
       "      <td>2024-11-14T18:52:06</td>\n",
       "    </tr>\n",
       "    <tr>\n",
       "      <th>3</th>\n",
       "      <td>gio</td>\n",
       "      <td>4</td>\n",
       "      <td>JaoLSL</td>\n",
       "      <td>2024-11-14T18:52:06</td>\n",
       "    </tr>\n",
       "    <tr>\n",
       "      <th>4</th>\n",
       "      <td>gio</td>\n",
       "      <td>4</td>\n",
       "      <td>JaoLSL</td>\n",
       "      <td>2024-11-14T18:52:06</td>\n",
       "    </tr>\n",
       "    <tr>\n",
       "      <th>5</th>\n",
       "      <td>lecandre</td>\n",
       "      <td>4</td>\n",
       "      <td>rodizinho</td>\n",
       "      <td>2024-11-14T01:18:14</td>\n",
       "    </tr>\n",
       "    <tr>\n",
       "      <th>6</th>\n",
       "      <td>lecandre</td>\n",
       "      <td>4</td>\n",
       "      <td>rodizinho</td>\n",
       "      <td>2024-11-14T01:18:14</td>\n",
       "    </tr>\n",
       "    <tr>\n",
       "      <th>7</th>\n",
       "      <td>lecandre</td>\n",
       "      <td>4</td>\n",
       "      <td>rodizinho</td>\n",
       "      <td>2024-11-14T01:18:14</td>\n",
       "    </tr>\n",
       "    <tr>\n",
       "      <th>8</th>\n",
       "      <td>lecandre</td>\n",
       "      <td>4</td>\n",
       "      <td>rodizinho</td>\n",
       "      <td>2024-11-14T01:18:14</td>\n",
       "    </tr>\n",
       "    <tr>\n",
       "      <th>9</th>\n",
       "      <td>mello</td>\n",
       "      <td>1</td>\n",
       "      <td>rodizinho</td>\n",
       "      <td>2024-11-14T17:37:02</td>\n",
       "    </tr>\n",
       "    <tr>\n",
       "      <th>10</th>\n",
       "      <td>joao</td>\n",
       "      <td>1</td>\n",
       "      <td>leosaor</td>\n",
       "      <td>2024-11-14T02:28:06</td>\n",
       "    </tr>\n",
       "    <tr>\n",
       "      <th>11</th>\n",
       "      <td>rodizinho</td>\n",
       "      <td>4</td>\n",
       "      <td>Matheus</td>\n",
       "      <td>2024-11-14T17:14:02</td>\n",
       "    </tr>\n",
       "    <tr>\n",
       "      <th>12</th>\n",
       "      <td>rodizinho</td>\n",
       "      <td>4</td>\n",
       "      <td>Matheus</td>\n",
       "      <td>2024-11-14T17:14:02</td>\n",
       "    </tr>\n",
       "    <tr>\n",
       "      <th>13</th>\n",
       "      <td>rodizinho</td>\n",
       "      <td>4</td>\n",
       "      <td>Matheus</td>\n",
       "      <td>2024-11-14T17:14:02</td>\n",
       "    </tr>\n",
       "    <tr>\n",
       "      <th>14</th>\n",
       "      <td>rodizinho</td>\n",
       "      <td>4</td>\n",
       "      <td>Matheus</td>\n",
       "      <td>2024-11-14T17:14:02</td>\n",
       "    </tr>\n",
       "  </tbody>\n",
       "</table>\n",
       "</div>"
      ],
      "text/plain": [
       "         name  count      hater             last_sac\n",
       "0    expoente      1      Bruno  2024-11-12T21:52:33\n",
       "1         gio      4     JaoLSL  2024-11-14T18:52:06\n",
       "2         gio      4     JaoLSL  2024-11-14T18:52:06\n",
       "3         gio      4     JaoLSL  2024-11-14T18:52:06\n",
       "4         gio      4     JaoLSL  2024-11-14T18:52:06\n",
       "5    lecandre      4  rodizinho  2024-11-14T01:18:14\n",
       "6    lecandre      4  rodizinho  2024-11-14T01:18:14\n",
       "7    lecandre      4  rodizinho  2024-11-14T01:18:14\n",
       "8    lecandre      4  rodizinho  2024-11-14T01:18:14\n",
       "9       mello      1  rodizinho  2024-11-14T17:37:02\n",
       "10       joao      1    leosaor  2024-11-14T02:28:06\n",
       "11  rodizinho      4    Matheus  2024-11-14T17:14:02\n",
       "12  rodizinho      4    Matheus  2024-11-14T17:14:02\n",
       "13  rodizinho      4    Matheus  2024-11-14T17:14:02\n",
       "14  rodizinho      4    Matheus  2024-11-14T17:14:02"
      ]
     },
     "execution_count": 12,
     "metadata": {},
     "output_type": "execute_result"
    }
   ],
   "source": [
    "import pandas as pd\n",
    "\n",
    "def ranking(data: list) -> pd.DataFrame:\n",
    "    names = [sac[\"name\"] for sac in data]\n",
    "    counts = Counter(names)\n",
    "    ranking = []\n",
    "    for n in names:\n",
    "        dates = [sac[\"datetime_str\"] for sac in data if sac[\"name\"] == n]\n",
    "        dates = [parse_sac_datetime(d) for d in dates]\n",
    "        dates.sort()\n",
    "        \n",
    "        haters = [sac[\"from_name\"] for sac in data if sac[\"name\"] == n]\n",
    "        haters = Counter(haters)\n",
    "        ranking.append({\n",
    "            \"name\": n,\n",
    "            \"count\": counts[n],\n",
    "            \"hater\": haters.most_common(1)[0][0],\n",
    "            \"last_sac\": dates[-1].isoformat()\n",
    "        })\n",
    "    return pd.DataFrame(ranking, columns=[\"name\", \"count\", \"hater\", \"last_sac\"])\n",
    "\n",
    "ranking(raw_data)"
   ]
  }
 ],
 "metadata": {
  "kernelspec": {
   "display_name": "gag-corp-telegram-sac-dashboard-PU2v6c34-py3.13",
   "language": "python",
   "name": "python3"
  },
  "language_info": {
   "codemirror_mode": {
    "name": "ipython",
    "version": 3
   },
   "file_extension": ".py",
   "mimetype": "text/x-python",
   "name": "python",
   "nbconvert_exporter": "python",
   "pygments_lexer": "ipython3",
   "version": "3.13.0"
  }
 },
 "nbformat": 4,
 "nbformat_minor": 2
}
